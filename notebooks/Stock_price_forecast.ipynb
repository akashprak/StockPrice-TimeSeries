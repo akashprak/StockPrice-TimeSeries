{
 "cells": [
  {
   "cell_type": "code",
   "execution_count": 1,
   "metadata": {},
   "outputs": [],
   "source": [
    "import pandas as pd\n",
    "import numpy as np\n",
    "import seaborn as sns\n",
    "import matplotlib.pyplot as plt"
   ]
  },
  {
   "cell_type": "code",
   "execution_count": 36,
   "metadata": {},
   "outputs": [],
   "source": [
    "plt.rc(\"figure\", figsize=(15, 6))"
   ]
  },
  {
   "cell_type": "code",
   "execution_count": 2,
   "metadata": {},
   "outputs": [],
   "source": [
    "stock_data = pd.read_csv(\"../Data/FACT-stockprice-history.csv\")"
   ]
  },
  {
   "cell_type": "code",
   "execution_count": 3,
   "metadata": {},
   "outputs": [
    {
     "data": {
      "text/html": [
       "<div>\n",
       "<style scoped>\n",
       "    .dataframe tbody tr th:only-of-type {\n",
       "        vertical-align: middle;\n",
       "    }\n",
       "\n",
       "    .dataframe tbody tr th {\n",
       "        vertical-align: top;\n",
       "    }\n",
       "\n",
       "    .dataframe thead th {\n",
       "        text-align: right;\n",
       "    }\n",
       "</style>\n",
       "<table border=\"1\" class=\"dataframe\">\n",
       "  <thead>\n",
       "    <tr style=\"text-align: right;\">\n",
       "      <th></th>\n",
       "      <th>Date</th>\n",
       "      <th>Close</th>\n",
       "      <th>High</th>\n",
       "      <th>Low</th>\n",
       "      <th>Open</th>\n",
       "      <th>Volume</th>\n",
       "    </tr>\n",
       "  </thead>\n",
       "  <tbody>\n",
       "    <tr>\n",
       "      <th>0</th>\n",
       "      <td>2002-07-01</td>\n",
       "      <td>45.318386</td>\n",
       "      <td>46.564766</td>\n",
       "      <td>44.371136</td>\n",
       "      <td>44.969397</td>\n",
       "      <td>51968</td>\n",
       "    </tr>\n",
       "    <tr>\n",
       "      <th>1</th>\n",
       "      <td>2002-07-02</td>\n",
       "      <td>46.465050</td>\n",
       "      <td>47.561867</td>\n",
       "      <td>45.767080</td>\n",
       "      <td>46.265632</td>\n",
       "      <td>62553</td>\n",
       "    </tr>\n",
       "    <tr>\n",
       "      <th>2</th>\n",
       "      <td>2002-07-03</td>\n",
       "      <td>46.365341</td>\n",
       "      <td>47.362445</td>\n",
       "      <td>46.016356</td>\n",
       "      <td>46.415196</td>\n",
       "      <td>19050</td>\n",
       "    </tr>\n",
       "    <tr>\n",
       "      <th>3</th>\n",
       "      <td>2002-07-04</td>\n",
       "      <td>46.116066</td>\n",
       "      <td>47.262737</td>\n",
       "      <td>45.368238</td>\n",
       "      <td>47.163025</td>\n",
       "      <td>28525</td>\n",
       "    </tr>\n",
       "    <tr>\n",
       "      <th>4</th>\n",
       "      <td>2002-07-05</td>\n",
       "      <td>45.717224</td>\n",
       "      <td>46.664474</td>\n",
       "      <td>45.368239</td>\n",
       "      <td>46.664474</td>\n",
       "      <td>19528</td>\n",
       "    </tr>\n",
       "  </tbody>\n",
       "</table>\n",
       "</div>"
      ],
      "text/plain": [
       "         Date      Close       High        Low       Open  Volume\n",
       "0  2002-07-01  45.318386  46.564766  44.371136  44.969397   51968\n",
       "1  2002-07-02  46.465050  47.561867  45.767080  46.265632   62553\n",
       "2  2002-07-03  46.365341  47.362445  46.016356  46.415196   19050\n",
       "3  2002-07-04  46.116066  47.262737  45.368238  47.163025   28525\n",
       "4  2002-07-05  45.717224  46.664474  45.368239  46.664474   19528"
      ]
     },
     "execution_count": 3,
     "metadata": {},
     "output_type": "execute_result"
    }
   ],
   "source": [
    "stock_data.head()"
   ]
  },
  {
   "cell_type": "code",
   "execution_count": 20,
   "metadata": {},
   "outputs": [
    {
     "data": {
      "text/html": [
       "<div>\n",
       "<style scoped>\n",
       "    .dataframe tbody tr th:only-of-type {\n",
       "        vertical-align: middle;\n",
       "    }\n",
       "\n",
       "    .dataframe tbody tr th {\n",
       "        vertical-align: top;\n",
       "    }\n",
       "\n",
       "    .dataframe thead th {\n",
       "        text-align: right;\n",
       "    }\n",
       "</style>\n",
       "<table border=\"1\" class=\"dataframe\">\n",
       "  <thead>\n",
       "    <tr style=\"text-align: right;\">\n",
       "      <th></th>\n",
       "      <th>count</th>\n",
       "      <th>mean</th>\n",
       "      <th>std</th>\n",
       "      <th>min</th>\n",
       "      <th>25%</th>\n",
       "      <th>50%</th>\n",
       "      <th>75%</th>\n",
       "      <th>max</th>\n",
       "    </tr>\n",
       "  </thead>\n",
       "  <tbody>\n",
       "    <tr>\n",
       "      <th>Close</th>\n",
       "      <td>5625.0</td>\n",
       "      <td>100.545428</td>\n",
       "      <td>2.017255e+02</td>\n",
       "      <td>14.507866</td>\n",
       "      <td>25.824997</td>\n",
       "      <td>33.702118</td>\n",
       "      <td>48.808250</td>\n",
       "      <td>1.133322e+03</td>\n",
       "    </tr>\n",
       "    <tr>\n",
       "      <th>High</th>\n",
       "      <td>5625.0</td>\n",
       "      <td>103.578039</td>\n",
       "      <td>2.073762e+02</td>\n",
       "      <td>16.053378</td>\n",
       "      <td>26.722391</td>\n",
       "      <td>34.998352</td>\n",
       "      <td>50.254052</td>\n",
       "      <td>1.185820e+03</td>\n",
       "    </tr>\n",
       "    <tr>\n",
       "      <th>Low</th>\n",
       "      <td>5625.0</td>\n",
       "      <td>98.386235</td>\n",
       "      <td>1.975821e+02</td>\n",
       "      <td>13.959458</td>\n",
       "      <td>25.127025</td>\n",
       "      <td>33.004146</td>\n",
       "      <td>47.910852</td>\n",
       "      <td>1.077677e+03</td>\n",
       "    </tr>\n",
       "    <tr>\n",
       "      <th>Open</th>\n",
       "      <td>5625.0</td>\n",
       "      <td>100.882404</td>\n",
       "      <td>2.020320e+02</td>\n",
       "      <td>16.053378</td>\n",
       "      <td>25.924709</td>\n",
       "      <td>34.051107</td>\n",
       "      <td>49.107379</td>\n",
       "      <td>1.132223e+03</td>\n",
       "    </tr>\n",
       "    <tr>\n",
       "      <th>Volume</th>\n",
       "      <td>5625.0</td>\n",
       "      <td>319047.503644</td>\n",
       "      <td>1.205604e+06</td>\n",
       "      <td>0.000000</td>\n",
       "      <td>20200.000000</td>\n",
       "      <td>55068.000000</td>\n",
       "      <td>194855.000000</td>\n",
       "      <td>3.699138e+07</td>\n",
       "    </tr>\n",
       "  </tbody>\n",
       "</table>\n",
       "</div>"
      ],
      "text/plain": [
       "         count           mean           std        min           25%  \\\n",
       "Close   5625.0     100.545428  2.017255e+02  14.507866     25.824997   \n",
       "High    5625.0     103.578039  2.073762e+02  16.053378     26.722391   \n",
       "Low     5625.0      98.386235  1.975821e+02  13.959458     25.127025   \n",
       "Open    5625.0     100.882404  2.020320e+02  16.053378     25.924709   \n",
       "Volume  5625.0  319047.503644  1.205604e+06   0.000000  20200.000000   \n",
       "\n",
       "                 50%            75%           max  \n",
       "Close      33.702118      48.808250  1.133322e+03  \n",
       "High       34.998352      50.254052  1.185820e+03  \n",
       "Low        33.004146      47.910852  1.077677e+03  \n",
       "Open       34.051107      49.107379  1.132223e+03  \n",
       "Volume  55068.000000  194855.000000  3.699138e+07  "
      ]
     },
     "execution_count": 20,
     "metadata": {},
     "output_type": "execute_result"
    }
   ],
   "source": [
    "stock_data.describe().T"
   ]
  },
  {
   "cell_type": "code",
   "execution_count": 5,
   "metadata": {},
   "outputs": [
    {
     "name": "stdout",
     "output_type": "stream",
     "text": [
      "<class 'pandas.core.frame.DataFrame'>\n",
      "RangeIndex: 5625 entries, 0 to 5624\n",
      "Data columns (total 6 columns):\n",
      " #   Column  Non-Null Count  Dtype  \n",
      "---  ------  --------------  -----  \n",
      " 0   Date    5625 non-null   object \n",
      " 1   Close   5625 non-null   float64\n",
      " 2   High    5625 non-null   float64\n",
      " 3   Low     5625 non-null   float64\n",
      " 4   Open    5625 non-null   float64\n",
      " 5   Volume  5625 non-null   int64  \n",
      "dtypes: float64(4), int64(1), object(1)\n",
      "memory usage: 263.8+ KB\n"
     ]
    }
   ],
   "source": [
    "stock_data.info()"
   ]
  },
  {
   "cell_type": "code",
   "execution_count": 6,
   "metadata": {},
   "outputs": [
    {
     "name": "stdout",
     "output_type": "stream",
     "text": [
      "datetime64[ns]\n"
     ]
    }
   ],
   "source": [
    "# Date is of object type, converting it into datetime\n",
    "stock_data['Date'] = pd.to_datetime(stock_data['Date'], errors='coerce')\n",
    "print(stock_data[\"Date\"].dtype)"
   ]
  },
  {
   "cell_type": "code",
   "execution_count": 7,
   "metadata": {},
   "outputs": [
    {
     "data": {
      "text/plain": [
       "Date      0\n",
       "Close     0\n",
       "High      0\n",
       "Low       0\n",
       "Open      0\n",
       "Volume    0\n",
       "dtype: int64"
      ]
     },
     "execution_count": 7,
     "metadata": {},
     "output_type": "execute_result"
    }
   ],
   "source": [
    "stock_data.isnull().sum()"
   ]
  },
  {
   "cell_type": "markdown",
   "metadata": {},
   "source": [
    "No null values in dataset"
   ]
  },
  {
   "cell_type": "code",
   "execution_count": 14,
   "metadata": {},
   "outputs": [
    {
     "name": "stdout",
     "output_type": "stream",
     "text": [
      "0\n"
     ]
    }
   ],
   "source": [
    "# Checking for duplicates\n",
    "print(stock_data.duplicated().sum())"
   ]
  },
  {
   "cell_type": "code",
   "execution_count": 15,
   "metadata": {},
   "outputs": [],
   "source": [
    "# setting date as the index\n",
    "stock_data.set_index('Date', inplace=True)"
   ]
  },
  {
   "cell_type": "code",
   "execution_count": 17,
   "metadata": {},
   "outputs": [
    {
     "data": {
      "text/html": [
       "<div>\n",
       "<style scoped>\n",
       "    .dataframe tbody tr th:only-of-type {\n",
       "        vertical-align: middle;\n",
       "    }\n",
       "\n",
       "    .dataframe tbody tr th {\n",
       "        vertical-align: top;\n",
       "    }\n",
       "\n",
       "    .dataframe thead th {\n",
       "        text-align: right;\n",
       "    }\n",
       "</style>\n",
       "<table border=\"1\" class=\"dataframe\">\n",
       "  <thead>\n",
       "    <tr style=\"text-align: right;\">\n",
       "      <th></th>\n",
       "      <th>Close</th>\n",
       "      <th>High</th>\n",
       "      <th>Low</th>\n",
       "      <th>Open</th>\n",
       "      <th>Volume</th>\n",
       "    </tr>\n",
       "    <tr>\n",
       "      <th>Date</th>\n",
       "      <th></th>\n",
       "      <th></th>\n",
       "      <th></th>\n",
       "      <th></th>\n",
       "      <th></th>\n",
       "    </tr>\n",
       "  </thead>\n",
       "  <tbody>\n",
       "    <tr>\n",
       "      <th>2002-07-01</th>\n",
       "      <td>45.318386</td>\n",
       "      <td>46.564766</td>\n",
       "      <td>44.371136</td>\n",
       "      <td>44.969397</td>\n",
       "      <td>51968</td>\n",
       "    </tr>\n",
       "    <tr>\n",
       "      <th>2002-07-02</th>\n",
       "      <td>46.465050</td>\n",
       "      <td>47.561867</td>\n",
       "      <td>45.767080</td>\n",
       "      <td>46.265632</td>\n",
       "      <td>62553</td>\n",
       "    </tr>\n",
       "    <tr>\n",
       "      <th>2002-07-03</th>\n",
       "      <td>46.365341</td>\n",
       "      <td>47.362445</td>\n",
       "      <td>46.016356</td>\n",
       "      <td>46.415196</td>\n",
       "      <td>19050</td>\n",
       "    </tr>\n",
       "    <tr>\n",
       "      <th>2002-07-04</th>\n",
       "      <td>46.116066</td>\n",
       "      <td>47.262737</td>\n",
       "      <td>45.368238</td>\n",
       "      <td>47.163025</td>\n",
       "      <td>28525</td>\n",
       "    </tr>\n",
       "    <tr>\n",
       "      <th>2002-07-05</th>\n",
       "      <td>45.717224</td>\n",
       "      <td>46.664474</td>\n",
       "      <td>45.368239</td>\n",
       "      <td>46.664474</td>\n",
       "      <td>19528</td>\n",
       "    </tr>\n",
       "  </tbody>\n",
       "</table>\n",
       "</div>"
      ],
      "text/plain": [
       "                Close       High        Low       Open  Volume\n",
       "Date                                                          \n",
       "2002-07-01  45.318386  46.564766  44.371136  44.969397   51968\n",
       "2002-07-02  46.465050  47.561867  45.767080  46.265632   62553\n",
       "2002-07-03  46.365341  47.362445  46.016356  46.415196   19050\n",
       "2002-07-04  46.116066  47.262737  45.368238  47.163025   28525\n",
       "2002-07-05  45.717224  46.664474  45.368239  46.664474   19528"
      ]
     },
     "execution_count": 17,
     "metadata": {},
     "output_type": "execute_result"
    }
   ],
   "source": [
    "stock_data.head()"
   ]
  },
  {
   "cell_type": "code",
   "execution_count": null,
   "metadata": {},
   "outputs": [
    {
     "data": {
      "text/plain": [
       "<Axes: xlabel='Date', ylabel='Close'>"
      ]
     },
     "execution_count": 56,
     "metadata": {},
     "output_type": "execute_result"
    },
    {
     "data": {
      "image/png": "[encoded data removed]",
      "text/plain": [
       "<Figure size 1500x600 with 1 Axes>"
      ]
     },
     "metadata": {},
     "output_type": "display_data"
    }
   ],
   "source": [
    "plt.style.use('ggplot')\n",
    "sns.lineplot(stock_data['Close'])"
   ]
  }
 ],
 "metadata": {
  "kernelspec": {
   "display_name": "pythimoon",
   "language": "python",
   "name": "python3"
  },
  "language_info": {
   "codemirror_mode": {
    "name": "ipython",
    "version": 3
   },
   "file_extension": ".py",
   "mimetype": "text/x-python",
   "name": "python",
   "nbconvert_exporter": "python",
   "pygments_lexer": "ipython3",
   "version": "3.13.1"
  }
 },
 "nbformat": 4,
 "nbformat_minor": 2
}
